{
 "cells": [
  {
   "cell_type": "markdown",
   "metadata": {},
   "source": [
    "---\n",
    "\n",
    "_You are currently looking at **version 1.1** of this notebook. To download notebooks and datafiles, as well as get help on Jupyter notebooks in the Coursera platform, visit the [Jupyter Notebook FAQ](https://www.coursera.org/learn/python-data-analysis/resources/0dhYG) course resource._\n",
    "\n",
    "---"
   ]
  },
  {
   "cell_type": "code",
   "execution_count": null,
   "metadata": {
    "collapsed": true
   },
   "outputs": [],
   "source": [
    "import pandas as pd\n",
    "import numpy as np\n",
    "from scipy.stats import ttest_ind"
   ]
  },
  {
   "cell_type": "markdown",
   "metadata": {},
   "source": [
    "# Assignment 4 - Hypothesis Testing\n",
    "This assignment requires more individual learning than previous assignments - you are encouraged to check out the [pandas documentation](http://pandas.pydata.org/pandas-docs/stable/) to find functions or methods you might not have used yet, or ask questions on [Stack Overflow](http://stackoverflow.com/) and tag them as pandas and python related. And of course, the discussion forums are open for interaction with your peers and the course staff.\n",
    "\n",
    "Definitions:\n",
    "* A _quarter_ is a specific three month period, Q1 is January through March, Q2 is April through June, Q3 is July through September, Q4 is October through December.\n",
    "* A _recession_ is defined as starting with two consecutive quarters of GDP decline, and ending with two consecutive quarters of GDP growth.\n",
    "* A _recession bottom_ is the quarter within a recession which had the lowest GDP.\n",
    "* A _university town_ is a city which has a high percentage of university students compared to the total population of the city.\n",
    "\n",
    "**Hypothesis**: University towns have their mean housing prices less effected by recessions. Run a t-test to compare the ratio of the mean price of houses in university towns the quarter before the recession starts compared to the recession bottom. (`price_ratio=quarter_before_recession/recession_bottom`)\n",
    "\n",
    "The following data files are available for this assignment:\n",
    "* From the [Zillow research data site](http://www.zillow.com/research/data/) there is housing data for the United States. In particular the datafile for [all homes at a city level](http://files.zillowstatic.com/research/public/City/City_Zhvi_AllHomes.csv), ```City_Zhvi_AllHomes.csv```, has median home sale prices at a fine grained level.\n",
    "* From the Wikipedia page on college towns is a list of [university towns in the United States](https://en.wikipedia.org/wiki/List_of_college_towns#College_towns_in_the_United_States) which has been copy and pasted into the file ```university_towns.txt```.\n",
    "* From Bureau of Economic Analysis, US Department of Commerce, the [GDP over time](http://www.bea.gov/national/index.htm#gdp) of the United States in current dollars (use the chained value in 2009 dollars), in quarterly intervals, in the file ```gdplev.xls```. For this assignment, only look at GDP data from the first quarter of 2000 onward.\n",
    "\n",
    "Each function in this assignment below is worth 10%, with the exception of ```run_ttest()```, which is worth 50%."
   ]
  },
  {
   "cell_type": "code",
   "execution_count": null,
   "metadata": {
    "collapsed": false
   },
   "outputs": [],
   "source": [
    "# Use this dictionary to map state names to two letter acronyms\n",
    "states = {'OH': 'Ohio', 'KY': 'Kentucky', 'AS': 'American Samoa', 'NV': 'Nevada', 'WY': 'Wyoming', 'NA': 'National', 'AL': 'Alabama', 'MD': 'Maryland', 'AK': 'Alaska', 'UT': 'Utah', 'OR': 'Oregon', 'MT': 'Montana', 'IL': 'Illinois', 'TN': 'Tennessee', 'DC': 'District of Columbia', 'VT': 'Vermont', 'ID': 'Idaho', 'AR': 'Arkansas', 'ME': 'Maine', 'WA': 'Washington', 'HI': 'Hawaii', 'WI': 'Wisconsin', 'MI': 'Michigan', 'IN': 'Indiana', 'NJ': 'New Jersey', 'AZ': 'Arizona', 'GU': 'Guam', 'MS': 'Mississippi', 'PR': 'Puerto Rico', 'NC': 'North Carolina', 'TX': 'Texas', 'SD': 'South Dakota', 'MP': 'Northern Mariana Islands', 'IA': 'Iowa', 'MO': 'Missouri', 'CT': 'Connecticut', 'WV': 'West Virginia', 'SC': 'South Carolina', 'LA': 'Louisiana', 'KS': 'Kansas', 'NY': 'New York', 'NE': 'Nebraska', 'OK': 'Oklahoma', 'FL': 'Florida', 'CA': 'California', 'CO': 'Colorado', 'PA': 'Pennsylvania', 'DE': 'Delaware', 'NM': 'New Mexico', 'RI': 'Rhode Island', 'MN': 'Minnesota', 'VI': 'Virgin Islands', 'NH': 'New Hampshire', 'MA': 'Massachusetts', 'GA': 'Georgia', 'ND': 'North Dakota', 'VA': 'Virginia'}"
   ]
  },
  {
   "cell_type": "code",
   "execution_count": 6,
   "metadata": {
    "collapsed": false
   },
   "outputs": [],
   "source": [
    "import re\n",
    "import pandas as pd\n",
    "import numpy as np\n",
    "# list of unique states\n",
    "\n",
    "\n",
    "def get_list_of_university_towns():\n",
    "    df = pd.read_table('university_towns.txt', header = None)\n",
    "    df.columns = ['Names']\n",
    "    df['RegionName'] = df['Names'].apply(lambda x: x.split(\"(\")[0].strip() if x.count('(') > 0 else np.NaN)\n",
    "    df['State'] = df['Names'].apply(lambda x: x.split(\"[ed\")[0].strip() if x.count('[ed') > 0 else np.NaN).fillna(method = 'ffill')\n",
    "    for index, row in df.iterrows():\n",
    "        if ':' in row['Names'] and row['Names'][-1]==\":\":\n",
    "            row['RegionName'] = row['Names']\n",
    "        if '[ed' not in row['Names'] and '(' not in row['Names']:\n",
    "            row['RegionName'] = row['Names']\n",
    "    df = df[['State','RegionName']]\n",
    "    df.reset_index(inplace = True)\n",
    "    del df['index']\n",
    "    return df.dropna()"
   ]
  },
  {
   "cell_type": "code",
   "execution_count": 8,
   "metadata": {
    "collapsed": false
   },
   "outputs": [
    {
     "data": {
      "text/plain": [
       "'2008q3'"
      ]
     },
     "execution_count": 8,
     "metadata": {},
     "output_type": "execute_result"
    }
   ],
   "source": [
    "def get_recession_start():\n",
    "    '''Returns the year and quarter of the recession start time as a \n",
    "    string value in a format such as 2005q3'''\n",
    "    import pandas as pd\n",
    "\n",
    "    df = pd.read_excel('gdplev.xls', skiprows = 5, parse_cols = [4,6], names = [['YEAR_QUARTER','GDP_IN_BIL']])\n",
    "    df = df.dropna()\n",
    "    df = df[df['YEAR_QUARTER'].str[:4]>='2000']\n",
    "    seq_str='0'\n",
    "    for i in range(1,len(df)):\n",
    "        if df.iloc[i]['GDP_IN_BIL']>df.iloc[i-1]['GDP_IN_BIL']:\n",
    "            seq_str += '1'\n",
    "        if df.iloc[i]['GDP_IN_BIL']<df.iloc[i-1]['GDP_IN_BIL']:\n",
    "            seq_str += '0'\n",
    "    return df.iloc[seq_str.rindex('1',0,seq_str.index('0011'))+1]['YEAR_QUARTER']\n",
    "get_recession_start()"
   ]
  },
  {
   "cell_type": "code",
   "execution_count": 20,
   "metadata": {
    "collapsed": false
   },
   "outputs": [
    {
     "data": {
      "text/plain": [
       "'2009q4'"
      ]
     },
     "execution_count": 20,
     "metadata": {},
     "output_type": "execute_result"
    }
   ],
   "source": [
    "def get_recession_end():\n",
    "    '''Returns the year and quarter of the recession end time as a \n",
    "    string value in a format such as 2005q3'''\n",
    "    import pandas as pd\n",
    "\n",
    "    df = pd.read_excel('gdplev.xls', skiprows = 5, parse_cols = [4,6], names = [['YEAR_QUARTER','GDP_IN_BIL']])\n",
    "    df = df.dropna()\n",
    "    df = df[df['YEAR_QUARTER'].str[:4]>='2000']\n",
    "\n",
    "    for i in range(1,len(df)):\n",
    "        if i+3 > len(df)-1:\n",
    "            continue\n",
    "        if df.iloc[i-1]['GDP_IN_BIL'] > df.iloc[i]['GDP_IN_BIL'] and df.iloc[i]['GDP_IN_BIL'] > df.iloc[i+1]['GDP_IN_BIL'] and df.iloc[i+1]['GDP_IN_BIL'] < df.iloc[i+2]['GDP_IN_BIL'] and df.iloc[i+2]['GDP_IN_BIL'] < df.iloc[i+3]['GDP_IN_BIL']:\n",
    "            return df.iloc[i+3]['YEAR_QUARTER']\n",
    "get_recession_end()"
   ]
  },
  {
   "cell_type": "code",
   "execution_count": 1,
   "metadata": {
    "collapsed": false
   },
   "outputs": [
    {
     "data": {
      "text/plain": [
       "'2009q2'"
      ]
     },
     "execution_count": 1,
     "metadata": {},
     "output_type": "execute_result"
    }
   ],
   "source": [
    "def get_recession_start_end():\n",
    "    '''Returns the year and quarter of the recession end time as a \n",
    "    string value in a format such as 2005q3'''\n",
    "    import pandas as pd\n",
    "\n",
    "    df = pd.read_excel('gdplev.xls', skiprows = 5, parse_cols = [4,6], names = [['YEAR_QUARTER','GDP_IN_BIL']])\n",
    "    df = df.dropna()\n",
    "    df = df[df['YEAR_QUARTER'].str[:4]>='2000']\n",
    "    list1 = []\n",
    "    \n",
    "    seq_str='0'\n",
    "    for i in range(1,len(df)):\n",
    "        if df.iloc[i]['GDP_IN_BIL']>df.iloc[i-1]['GDP_IN_BIL']:\n",
    "            seq_str += '1'\n",
    "        if df.iloc[i]['GDP_IN_BIL']<df.iloc[i-1]['GDP_IN_BIL']:\n",
    "            seq_str += '0'\n",
    "    list1.append(df.iloc[seq_str.rindex('1',0,seq_str.index('0011'))+1]['YEAR_QUARTER'])\n",
    "    \n",
    "    \n",
    "    for i in range(1,len(df)):\n",
    "        if i+3 > len(df)-1:\n",
    "            continue\n",
    "        if df.iloc[i-1]['GDP_IN_BIL'] > df.iloc[i]['GDP_IN_BIL'] and df.iloc[i]['GDP_IN_BIL'] > df.iloc[i+1]['GDP_IN_BIL'] and df.iloc[i+1]['GDP_IN_BIL'] < df.iloc[i+2]['GDP_IN_BIL'] and df.iloc[i+2]['GDP_IN_BIL'] < df.iloc[i+3]['GDP_IN_BIL']:\n",
    "            list1.append(df.iloc[i+3]['YEAR_QUARTER'])\n",
    "            return list1\n",
    "\n",
    "def get_recession_bottom():\n",
    "    import pandas as pd\n",
    "    list1 = get_recession_start_end()\n",
    "    df = pd.read_excel('gdplev.xls', skiprows = 5, parse_cols = [4,6], names = [['YEAR_QUARTER','GDP_IN_BIL']])\n",
    "    df = df.dropna()\n",
    "    df = df[(df['YEAR_QUARTER']>=list1[0]) & (df['YEAR_QUARTER']<=list1[1])]\n",
    "    min_val = min(df['GDP_IN_BIL'])\n",
    "    df.where(df['GDP_IN_BIL'] == min_val, inplace = True)\n",
    "    return list(df.dropna()['YEAR_QUARTER'])[0]\n",
    "get_recession_bottom()"
   ]
  },
  {
   "cell_type": "code",
   "execution_count": null,
   "metadata": {
    "collapsed": false
   },
   "outputs": [],
   "source": [
    "\n",
    "def convert_housing_data_to_quarters():\n",
    "    import pandas as pd\n",
    "    import numpy as np\n",
    "    raw_df = pd.read_csv('City_Zhvi_AllHomes.csv').fillna(0)\n",
    "    df = raw_df.iloc[:,np.r_[1,2,51:251]].copy()\n",
    "    df['2016-09'] = 0\n",
    "    states = {'OH': 'Ohio', 'KY': 'Kentucky', 'AS': 'American Samoa', 'NV': 'Nevada', 'WY': 'Wyoming', 'NA': 'National', 'AL': 'Alabama', 'MD': 'Maryland', 'AK': 'Alaska', 'UT': 'Utah', 'OR': 'Oregon', 'MT': 'Montana', 'IL': 'Illinois', 'TN': 'Tennessee', 'DC': 'District of Columbia', 'VT': 'Vermont', 'ID': 'Idaho', 'AR': 'Arkansas', 'ME': 'Maine', 'WA': 'Washington', 'HI': 'Hawaii', 'WI': 'Wisconsin', 'MI': 'Michigan', 'IN': 'Indiana', 'NJ': 'New Jersey', 'AZ': 'Arizona', 'GU': 'Guam', 'MS': 'Mississippi', 'PR': 'Puerto Rico', 'NC': 'North Carolina', 'TX': 'Texas', 'SD': 'South Dakota', 'MP': 'Northern Mariana Islands', 'IA': 'Iowa', 'MO': 'Missouri', 'CT': 'Connecticut', 'WV': 'West Virginia', 'SC': 'South Carolina', 'LA': 'Louisiana', 'KS': 'Kansas', 'NY': 'New York', 'NE': 'Nebraska', 'OK': 'Oklahoma', 'FL': 'Florida', 'CA': 'California', 'CO': 'Colorado', 'PA': 'Pennsylvania', 'DE': 'Delaware', 'NM': 'New Mexico', 'RI': 'Rhode Island', 'MN': 'Minnesota', 'VI': 'Virgin Islands', \n",
    "              'NH': 'New Hampshire', 'MA': 'Massachusetts', 'GA': 'Georgia', 'ND': 'North Dakota', 'VA': 'Virginia'}\n",
    "    df['states'] = df['State'].map(states)\n",
    "    df.set_index(['states','RegionName'], inplace = True)\n",
    "    df = df.iloc[:,1:]\n",
    "    tdf = df.rename(columns = pd.to_datetime)\n",
    "    mdf = tdf.resample('3M', axis = 1, closed = 'left').mean().rename(columns = lambda x: '{:}q{:}'.format(x.year,int(x.month/3)))\n",
    "    return mdf"
   ]
  },
  {
   "cell_type": "code",
   "execution_count": 3,
   "metadata": {
    "collapsed": false
   },
   "outputs": [
    {
     "data": {
      "text/plain": [
       "(True, 5.5645761040968171e-218, 'university town')"
      ]
     },
     "execution_count": 3,
     "metadata": {},
     "output_type": "execute_result"
    }
   ],
   "source": [
    "\n",
    "\n",
    "import re\n",
    "import pandas as pd\n",
    "import numpy as np\n",
    "from scipy import stats\n",
    "\n",
    "def get_list_of_university_towns():\n",
    "    df = pd.read_table('university_towns.txt', header = None)\n",
    "    df.columns = ['Names']\n",
    "    df['RegionName'] = df['Names'].apply(lambda x: x.split(\"(\")[0].strip() if x.count('(') > 0 else np.NaN)\n",
    "    df['State'] = df['Names'].apply(lambda x: x.split(\"[ed\")[0].strip() if x.count('[ed') > 0 else np.NaN).fillna(method = 'ffill')\n",
    "    for index, row in df.iterrows():\n",
    "        if ':' in row['Names'] and row['Names'][-1]==\":\":\n",
    "            row['RegionName'] = row['Names']\n",
    "        if '[ed' not in row['Names'] and '(' not in row['Names']:\n",
    "            row['RegionName'] = row['Names']\n",
    "    df = df[['State','RegionName']]\n",
    "    df.reset_index(inplace = True)\n",
    "    del df['index']\n",
    "    return df.dropna()\n",
    "\n",
    "def get_recession_start():\n",
    "    '''Returns the year and quarter of the recession start time as a \n",
    "    string value in a format such as 2005q3'''\n",
    "    import pandas as pd\n",
    "\n",
    "    df = pd.read_excel('gdplev.xls', skiprows = 5, parse_cols = [4,6], names = [['YEAR_QUARTER','GDP_IN_BIL']])\n",
    "    df = df.dropna()\n",
    "    df = df[df['YEAR_QUARTER'].str[:4]>='2000']\n",
    "    seq_str='0'\n",
    "    for i in range(1,len(df)):\n",
    "        if df.iloc[i]['GDP_IN_BIL']>df.iloc[i-1]['GDP_IN_BIL']:\n",
    "            seq_str += '1'\n",
    "        if df.iloc[i]['GDP_IN_BIL']<df.iloc[i-1]['GDP_IN_BIL']:\n",
    "            seq_str += '0'\n",
    "    return df.iloc[seq_str.rindex('1',0,seq_str.index('0011'))+1]['YEAR_QUARTER']\n",
    "\n",
    "\n",
    "\n",
    "def get_recession_start_end():\n",
    "    '''Returns the year and quarter of the recession end time as a \n",
    "    string value in a format such as 2005q3'''\n",
    "    import pandas as pd\n",
    "\n",
    "    df = pd.read_excel('gdplev.xls', skiprows = 5, parse_cols = [4,6], names = [['YEAR_QUARTER','GDP_IN_BIL']])\n",
    "    df = df.dropna()\n",
    "    df = df[df['YEAR_QUARTER'].str[:4]>='2000']\n",
    "    list1 = []\n",
    "    \n",
    "    seq_str='0'\n",
    "    for i in range(1,len(df)):\n",
    "        if df.iloc[i]['GDP_IN_BIL']>df.iloc[i-1]['GDP_IN_BIL']:\n",
    "            seq_str += '1'\n",
    "        if df.iloc[i]['GDP_IN_BIL']<df.iloc[i-1]['GDP_IN_BIL']:\n",
    "            seq_str += '0'\n",
    "    list1.append(df.iloc[seq_str.rindex('1',0,seq_str.index('0011'))+1]['YEAR_QUARTER'])\n",
    "    \n",
    "    \n",
    "    for i in range(1,len(df)):\n",
    "        if i+3 > len(df)-1:\n",
    "            continue\n",
    "        if df.iloc[i-1]['GDP_IN_BIL'] > df.iloc[i]['GDP_IN_BIL'] and df.iloc[i]['GDP_IN_BIL'] > df.iloc[i+1]['GDP_IN_BIL'] and df.iloc[i+1]['GDP_IN_BIL'] < df.iloc[i+2]['GDP_IN_BIL'] and df.iloc[i+2]['GDP_IN_BIL'] < df.iloc[i+3]['GDP_IN_BIL']:\n",
    "            list1.append(df.iloc[i+3]['YEAR_QUARTER'])\n",
    "            return list1\n",
    "\n",
    "def get_recession_bottom():\n",
    "    import pandas as pd\n",
    "    list1 = get_recession_start_end()\n",
    "    df = pd.read_excel('gdplev.xls', skiprows = 5, parse_cols = [4,6], names = [['YEAR_QUARTER','GDP_IN_BIL']])\n",
    "    df = df.dropna()\n",
    "    df = df[(df['YEAR_QUARTER']>=list1[0]) & (df['YEAR_QUARTER']<=list1[1])]\n",
    "    min_val = min(df['GDP_IN_BIL'])\n",
    "    df.where(df['GDP_IN_BIL'] == min_val, inplace = True)\n",
    "    return list(df.dropna()['YEAR_QUARTER'])[0]\n",
    "\n",
    "def convert_housing_data_to_quarters():\n",
    "    import pandas as pd\n",
    "    import numpy as np\n",
    "    raw_df = pd.read_csv('City_Zhvi_AllHomes.csv').fillna(0)\n",
    "    df = raw_df.iloc[:,np.r_[1,2,51:251]].copy()\n",
    "    df['2016-09'] = 0\n",
    "    states = {'OH': 'Ohio', 'KY': 'Kentucky', 'AS': 'American Samoa', 'NV': 'Nevada', 'WY': 'Wyoming', 'NA': 'National', 'AL': 'Alabama', 'MD': 'Maryland', 'AK': 'Alaska', 'UT': 'Utah', 'OR': 'Oregon', 'MT': 'Montana', 'IL': 'Illinois', 'TN': 'Tennessee', 'DC': 'District of Columbia', 'VT': 'Vermont', 'ID': 'Idaho', 'AR': 'Arkansas', 'ME': 'Maine', 'WA': 'Washington', 'HI': 'Hawaii', 'WI': 'Wisconsin', 'MI': 'Michigan', 'IN': 'Indiana', 'NJ': 'New Jersey', 'AZ': 'Arizona', 'GU': 'Guam', 'MS': 'Mississippi', 'PR': 'Puerto Rico', 'NC': 'North Carolina', 'TX': 'Texas', 'SD': 'South Dakota', 'MP': 'Northern Mariana Islands', 'IA': 'Iowa', 'MO': 'Missouri', 'CT': 'Connecticut', 'WV': 'West Virginia', 'SC': 'South Carolina', 'LA': 'Louisiana', 'KS': 'Kansas', 'NY': 'New York', 'NE': 'Nebraska', 'OK': 'Oklahoma', 'FL': 'Florida', 'CA': 'California', 'CO': 'Colorado', 'PA': 'Pennsylvania', 'DE': 'Delaware', 'NM': 'New Mexico', 'RI': 'Rhode Island', 'MN': 'Minnesota', 'VI': 'Virgin Islands', \n",
    "              'NH': 'New Hampshire', 'MA': 'Massachusetts', 'GA': 'Georgia', 'ND': 'North Dakota', 'VA': 'Virginia'}\n",
    "    df['states'] = df['State'].map(states)\n",
    "    df.set_index(['states','RegionName'], inplace = True)\n",
    "    df = df.iloc[:,1:]\n",
    "    tdf = df.rename(columns = pd.to_datetime)\n",
    "    mdf = tdf.resample('3M', axis = 1, closed = 'left').mean().rename(columns = lambda x: '{:}q{:}'.format(x.year,int(x.month/3)))\n",
    "    return mdf\n",
    "\n",
    "def run_ttest():\n",
    "    \n",
    "    hdf = convert_housing_data_to_quarters()\n",
    "    rec_start = get_recession_start()\n",
    "    rec_bottom = get_recession_bottom()\n",
    "    ul = get_list_of_university_towns()\n",
    "\n",
    "    recession_start = hdf.columns.get_loc(rec_start)\n",
    "    recession_bottom = hdf.columns.get_loc(rec_bottom)\n",
    "\n",
    "\n",
    "    hdf['PriceRatio'] = hdf.iloc[:,recession_start]/hdf.iloc[:,recession_bottom]\n",
    "    tuple_list = [tuple(x) for x in ul.values]\n",
    "    raw_university_towns = hdf.loc[tuple_list].fillna(0)\n",
    "    #print(raw_university_towns)\n",
    "    university_towns = raw_university_towns.dropna(subset=['PriceRatio'])\n",
    "    raw_non_university_towns = hdf.loc[~hdf.index.isin(tuple_list)].fillna(0)\n",
    "    non_university_towns = raw_non_university_towns.dropna(subset=['PriceRatio'])\n",
    "    university_towns_mean = raw_university_towns['PriceRatio'].mean()\n",
    "    non_university_towns_mean = raw_non_university_towns['PriceRatio'].mean()\n",
    "\n",
    "\n",
    "    pvalue = list(stats.ttest_ind(raw_university_towns['PriceRatio'], raw_non_university_towns['PriceRatio']))[1]\n",
    "    different = pvalue <0.01\n",
    "    if non_university_towns_mean < university_towns_mean:\n",
    "        better = 'non-university town'\n",
    "    else: better = 'university town'\n",
    "    return (different,pvalue,better)\n",
    "run_ttest()\n",
    "#(False, 0.046040975395856894, 'university town')"
   ]
  },
  {
   "cell_type": "code",
   "execution_count": null,
   "metadata": {
    "collapsed": true
   },
   "outputs": [],
   "source": []
  }
 ],
 "metadata": {
  "coursera": {
   "course_slug": "python-data-analysis",
   "graded_item_id": "Il9Fx",
   "launcher_item_id": "TeDW0",
   "part_id": "WGlun"
  },
  "kernelspec": {
   "display_name": "Python 3",
   "language": "python",
   "name": "python3"
  },
  "language_info": {
   "codemirror_mode": {
    "name": "ipython",
    "version": 3
   },
   "file_extension": ".py",
   "mimetype": "text/x-python",
   "name": "python",
   "nbconvert_exporter": "python",
   "pygments_lexer": "ipython3",
   "version": "3.5.2"
  }
 },
 "nbformat": 4,
 "nbformat_minor": 0
}
